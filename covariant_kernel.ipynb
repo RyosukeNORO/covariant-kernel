{
 "cells": [
  {
   "cell_type": "code",
   "execution_count": 1,
   "id": "62b5a204",
   "metadata": {},
   "outputs": [
    {
     "name": "stdout",
     "output_type": "stream",
     "text": [
      "Collecting qulacs\n",
      "  Downloading Qulacs-0.3.0-cp39-cp39-win_amd64.whl (508 kB)\n",
      "Installing collected packages: qulacs\n",
      "Successfully installed qulacs-0.3.0\n"
     ]
    }
   ],
   "source": [
    "!pip install qulacs"
   ]
  },
  {
   "cell_type": "code",
   "execution_count": 8,
   "id": "df205151",
   "metadata": {},
   "outputs": [],
   "source": [
    "import numpy as np\n",
    "from qulacs import ParametricQuantumCircuit, QuantumState\n",
    "from qulacs.state import inner_product"
   ]
  },
  {
   "cell_type": "markdown",
   "id": "beeacdb0",
   "metadata": {},
   "source": [
    "データセットの生成"
   ]
  },
  {
   "cell_type": "code",
   "execution_count": 39,
   "id": "ee5fd16a",
   "metadata": {},
   "outputs": [
    {
     "name": "stdout",
     "output_type": "stream",
     "text": [
      "[[ 0.60774507  0.71037461  0.71960703  0.59213963 -0.12379604 -0.41246352\n",
      "  -0.22829437 -0.03593825 -0.46469295  0.19432748]\n",
      " [ 0.62528531 -0.55958582  0.38193461 -0.75195003  0.31786811  0.42451572\n",
      "  -0.58566798  0.63189248 -0.67445755 -0.52665039]\n",
      " [ 0.17511065  0.61055576 -0.38091255  0.32551635  0.31488296 -0.07852846\n",
      "  -0.27076839  0.61065792 -0.14819699  0.572839  ]\n",
      " [-0.60744946 -0.26154769 -0.4846034   0.58733831  0.39949007 -0.58804688\n",
      "   0.71642451 -0.54500132  0.62243523  0.41255036]]\n",
      "[ 1.  1. -1. -1.]\n"
     ]
    }
   ],
   "source": [
    "num_each_dataset = 2\n",
    "\n",
    "c_plus = (np.pi/4 + np.pi/4) * np.random.rand(num_each_dataset, 2*n) - np.pi/4 # - \\pi/4 ～ \\pi/4 のランダムな数\n",
    "c_minus = (np.pi/4 + np.pi/4) * np.random.rand(num_each_dataset, 2*n) - np.pi/4\n",
    "y_plus = np.ones(num_each_dataset)\n",
    "y_minus = -np.ones(num_each_dataset)\n",
    "c = np.concatenate([c_plus, c_minus])\n",
    "y = np.concatenate([y_plus, y_minus])\n",
    "\n",
    "print(c)\n",
    "print(y)"
   ]
  },
  {
   "cell_type": "markdown",
   "id": "b09135f2",
   "metadata": {},
   "source": [
    "回路の作成"
   ]
  },
  {
   "cell_type": "code",
   "execution_count": 42,
   "id": "c463aef9",
   "metadata": {},
   "outputs": [],
   "source": [
    "# D_x V_\\lambda |0> を生成する回路\n",
    "def kernel_circuit(c):\n",
    "    circuit = ParametricQuantumCircuit(num_qubits)\n",
    "    # V\n",
    "    for i in range(num_qubits):\n",
    "        circuit.add_parametric_RY_gate(i,angle)\n",
    "    # T型のトポロジー\n",
    "    circuit.add_CZ_gate(0,1)\n",
    "    circuit.add_CZ_gate(1,2)\n",
    "    circuit.add_CZ_gate(1,3)\n",
    "    circuit.add_CZ_gate(3,4)\n",
    "\n",
    "    # D\n",
    "    for i in range(num_qubits):\n",
    "        circuit.add_parametric_RZ_gate(i,c[2*i])\n",
    "        circuit.add_parametric_RX_gate(i,c[2*i+1])\n",
    "    \n",
    "    return circuit\n",
    "\n",
    "# グラム行列の要素の計算\n",
    "def kernel_entry(c1, c2):\n",
    "    state1 = QuantumState(num_qubits)\n",
    "    state2 = QuantumState(n)\n",
    "    \n",
    "    state1.set_zero_state()\n",
    "    state2.set_zero_state()\n",
    "    \n",
    "    circuit1 = kernel_circuit(c1)\n",
    "    circuit2 = kernel_circuit(c2)\n",
    "    \n",
    "    circuit1.update_quantum_state(state1)\n",
    "    circuit2.update_quantum_state(state2)\n",
    "    \n",
    "    return abs(inner_product(state1, state2)) ** 2"
   ]
  },
  {
   "cell_type": "markdown",
   "id": "b29bcae4",
   "metadata": {},
   "source": [
    "グラム行列の計算"
   ]
  },
  {
   "cell_type": "code",
   "execution_count": 43,
   "id": "11939e88",
   "metadata": {},
   "outputs": [
    {
     "name": "stdout",
     "output_type": "stream",
     "text": [
      "[[1.         0.25050696 0.80223347 0.68015535]\n",
      " [0.25050696 1.         0.36727245 0.27536201]\n",
      " [0.80223347 0.36727245 1.         0.54365081]\n",
      " [0.68015535 0.27536201 0.54365081 1.        ]]\n"
     ]
    }
   ],
   "source": [
    "num_qubits = 5\n",
    "angle = 0.1 # np.pi/2が最適値？\n",
    "\n",
    "gram_matrix = np.zeros([2*num_each_dataset, 2*num_each_dataset])\n",
    "\n",
    "# グラム行列計算（計算量減らせる -> 後で行う）\n",
    "for i in range(2*num_each_dataset):\n",
    "    for j in range(2*num_each_dataset):\n",
    "        kernel = kernel_entry(c[i],c[j])\n",
    "        gram_matrix[i,j] = kernel\n",
    "        \n",
    "print(gram_matrix)"
   ]
  },
  {
   "cell_type": "code",
   "execution_count": null,
   "id": "d253a57f",
   "metadata": {},
   "outputs": [],
   "source": []
  }
 ],
 "metadata": {
  "kernelspec": {
   "display_name": "Python 3 (ipykernel)",
   "language": "python",
   "name": "python3"
  },
  "language_info": {
   "codemirror_mode": {
    "name": "ipython",
    "version": 3
   },
   "file_extension": ".py",
   "mimetype": "text/x-python",
   "name": "python",
   "nbconvert_exporter": "python",
   "pygments_lexer": "ipython3",
   "version": "3.9.7"
  }
 },
 "nbformat": 4,
 "nbformat_minor": 5
}
