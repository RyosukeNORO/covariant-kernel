{
 "cells": [
  {
   "cell_type": "code",
   "execution_count": 19,
   "metadata": {},
   "outputs": [],
   "source": [
    "from qulacs import QuantumState,QuantumCircuit\n",
    "from qulacs import ParametricQuantumCircuit\n",
    "from qulacs.gate import RY,CZ,merge\n",
    "from qulacs.state import inner_product\n",
    "import numpy as np \n",
    "import random\n",
    "\n",
    "import matplotlib.pyplot as plt"
   ]
  },
  {
   "attachments": {
    "image.png": {
     "image/png": "[encoded data removed]"
    }
   },
   "cell_type": "markdown",
   "metadata": {},
   "source": [
    "### Prepare training/test data\n",
    "![image.png](attachment:image.png)"
   ]
  },
  {
   "cell_type": "markdown",
   "metadata": {},
   "source": [
    "copied from Noro-san's code"
   ]
  },
  {
   "cell_type": "code",
   "execution_count": 20,
   "metadata": {},
   "outputs": [],
   "source": [
    "n_qubits = 16\n",
    "\n",
    "# 用いるスタビライザー群の要素を決定する\n",
    "S = np.zeros((n_qubits, 2*n_qubits))\n",
    "S[0] = np.array([1,0, 0,1, 0,0, 0,0, 0,0, 0,0, 0,0, 0,0, 0,0, 0,0, 0,0, 0,0, 0,0, 0,0, 0,0, 0,0])  # XZIII IIIII IIIII I (X->1,0 Z->0,1 I->0,0としてならべる)\n",
    "S[1] = np.array([0,1, 1,0, 0,1, 0,0, 0,1, 0,0, 0,0, 0,0, 0,0, 0,0, 0,0, 0,0, 0,0, 0,0, 0,0, 0,0])  # ZXZIZ IIIII IIIII I\n",
    "S[2] = np.array([0,0, 0,1, 1,0, 0,1, 0,0, 0,0, 0,0, 0,0, 0,0, 0,0, 0,0, 0,0, 0,0, 0,0, 0,0, 0,0])  # IZXZI IIIII IIIII I\n",
    "S[3] = np.array([0,0, 0,0, 0,1, 1,0, 0,0, 0,1, 0,0, 0,0, 0,0, 0,0, 0,0, 0,0, 0,0, 0,0, 0,0, 0,0])  # IIZXI ZIIII IIIII I\n",
    "S[4] = np.array([0,0, 0,1, 0,0, 0,0, 1,0, 0,0, 0,0, 0,1, 0,0, 0,0, 0,0, 0,0, 0,0, 0,0, 0,0, 0,0])  # IZIIX IIZII IIIII I\n",
    "S[5] = np.array([0,0, 0,0, 0,0, 0,1, 0,0, 1,0, 0,0, 0,0, 0,1, 0,0, 0,0, 0,0, 0,0, 0,0, 0,0, 0,0])  # IIIZI XIIZI IIIII I\n",
    "S[6] = np.array([0,0, 0,0, 0,0, 0,0, 0,0, 0,0, 1,0, 0,1, 0,0, 0,0, 0,0, 0,0, 0,0, 0,0, 0,0, 0,0])  # IIIII IXZII IIIII I\n",
    "S[7] = np.array([0,0, 0,0, 0,0, 0,0, 0,1, 0,0, 0,1, 1,0, 0,0, 0,0, 0,1, 0,0, 0,0, 0,0, 0,0, 0,0])  # IIIIZ IZXII ZIIII I\n",
    "S[8] = np.array([0,0, 0,0, 0,0, 0,0, 0,0, 0,1, 0,0, 0,0, 1,0, 0,1, 0,0, 0,1, 0,0, 0,0, 0,0, 0,0])  # IIIII ZIIXZ IZIII I\n",
    "S[9] = np.array([0,0, 0,0, 0,0, 0,0, 0,0, 0,0, 0,0, 0,0, 0,1, 1,0, 0,0, 0,0, 0,0, 0,0, 0,0, 0,0])  # IIIII IIIZX IIIII I\n",
    "S[10] = np.array([0,0, 0,0, 0,0, 0,0, 0,0, 0,0, 0,0, 0,1, 0,0, 0,0, 1,0, 0,0, 0,1, 0,0, 0,0, 0,0]) # IIIII IIZII XIZII I\n",
    "S[11] = np.array([0,0, 0,0, 0,0, 0,0, 0,0, 0,0, 0,0, 0,0, 0,1, 0,0, 0,0, 1,0, 0,0, 0,0, 0,1, 0,0]) # IIIII IIIZI IXIIZ I\n",
    "S[12] = np.array([0,0, 0,0, 0,0, 0,0, 0,0, 0,0, 0,0, 0,0, 0,0, 0,0, 0,1, 0,0, 1,0, 0,1, 0,0, 0,1]) # IIIII IIIII ZIXZI Z\n",
    "S[13] = np.array([0,0, 0,0, 0,0, 0,0, 0,0, 0,0, 0,0, 0,0, 0,0, 0,0, 0,0, 0,0, 0,1, 1,0, 0,1, 0,0]) # IIIII IIIII IIZXZ I\n",
    "S[14] = np.array([0,0, 0,0, 0,0, 0,0, 0,0, 0,0, 0,0, 0,0, 0,0, 0,0, 0,0, 0,1, 0,0, 0,1, 1,0, 0,0]) # IIIII IIIII IZIZX I\n",
    "S[15] = np.array([0,0, 0,0, 0,0, 0,0, 0,0, 0,0, 0,0, 0,0, 0,0, 0,0, 0,0, 0,0, 0,1, 0,0, 0,0, 1,0]) # IIIII IIIII IIZII X\n",
    "\n",
    "def x_generator(c, select_bin_i):\n",
    "    SS = np.copy(S)\n",
    "    \n",
    "    #select = np.random.randint(0,2,n_qubits) # i番目の生成元を使う(1)か使わない(0)かを決める行列\n",
    "    se = np.zeros(n_qubits)\n",
    "    for j in range(n_qubits):\n",
    "        se[j] = int(select_bin_i[j])\n",
    "        \n",
    "    for i in range(n_qubits):\n",
    "        SS[i] = SS[i] * se[i]\n",
    "    op = np.sum(SS, axis=0) # それぞれのビットにそれぞれのゲート(X, Z)が何回掛かるかを示す行列\n",
    "\n",
    "    # \\theta_{+-}を計算する\n",
    "    theta = np.zeros(2*n_qubits)\n",
    "\n",
    "    for i in range(n_qubits):\n",
    "        theta[2*i] = c[2*i] + np.pi/2 * op[2*i]\n",
    "        theta[2*i+1] = (-1)**op[2*i] * c[2*i+1] + np.pi/2 * op[2*i+1]\n",
    "\n",
    "    for i in range(2*n_qubits): # 0～\\piの値にする\n",
    "        theta[i] = theta[i] % np.pi\n",
    "    \n",
    "    return theta"
   ]
  },
  {
   "cell_type": "code",
   "execution_count": 21,
   "metadata": {},
   "outputs": [],
   "source": [
    "random.seed(0)\n",
    "n_data_train = 20\n",
    "epsilon = 0.0 # エラーの分散\n",
    "\n",
    "l = [i for i in range(2**n_qubits)] # 0 = 2**n_qubits-1 のリスト\n",
    "select = random.sample(l, n_data_train)\n",
    "select_bin = [format(select[i], f'0{n_qubits}b') for i in range(n_data_train)]\n",
    "\n",
    "# c_{+-}を決める\n",
    "c_plus = np.pi/2 * np.random.rand(2*n_qubits) - np.pi/4 # - \\pi/4 ～ \\pi/4 のランダムな数\n",
    "c_minus = np.pi/2 * np.random.rand(2*n_qubits) - np.pi/4\n",
    "\n",
    "x_plus = []\n",
    "x_minus = []\n",
    "#x_plus = x_generator(c_plus, select_bin[0]).reshape((1,-1))\n",
    "#x_minus = x_generator(c_minus, select_bin[0]).reshape((1,-1))\n",
    "for i in range(n_data_train):\n",
    "    xx = x_generator(c_plus, select_bin[i]).reshape((1,-1))\n",
    "    e = np.random.normal(0, np.sqrt(epsilon), (1, 2*n_qubits))\n",
    "    x_plus.append(xx + e)\n",
    "    xx = x_generator(c_minus, select_bin[i]).reshape((1,-1))\n",
    "    e = np.random.normal(0, np.sqrt(epsilon), (1, 2*n_qubits))\n",
    "    x_minus.append(xx + e)\n",
    "x_plus = np.concatenate(x_plus)\n",
    "x_minus = np.concatenate(x_minus)\n",
    "x_train = np.concatenate([x_plus,x_minus])\n",
    "y_plus = np.ones(n_data_train)\n",
    "y_minus = -np.ones(n_data_train)\n",
    "y_train = np.concatenate([y_plus, y_minus]).reshape(1,-1)\n",
    "#print(x_train)\n",
    "#print(y_train)"
   ]
  },
  {
   "cell_type": "code",
   "execution_count": 22,
   "metadata": {},
   "outputs": [],
   "source": [
    "y_train = y_train.T"
   ]
  },
  {
   "cell_type": "code",
   "execution_count": 23,
   "metadata": {},
   "outputs": [
    {
     "data": {
      "text/plain": [
       "(40, 32)"
      ]
     },
     "execution_count": 23,
     "metadata": {},
     "output_type": "execute_result"
    }
   ],
   "source": [
    "x_train.shape"
   ]
  },
  {
   "cell_type": "markdown",
   "metadata": {},
   "source": [
    "### Create helper function to get fiducial states, kernel matrix"
   ]
  },
  {
   "cell_type": "code",
   "execution_count": 24,
   "metadata": {},
   "outputs": [],
   "source": [
    "def create_featured_gate(n_qubits,Lambda,edges,x):\n",
    "    circuit = ParametricQuantumCircuit(n_qubits)\n",
    "    for i in range(n_qubits):\n",
    "        circuit.add_parametric_RY_gate(i,-Lambda[i])\n",
    "    for control, target  in edges:\n",
    "        circuit.add_CZ_gate(control,target)\n",
    "\n",
    "    for i in range(n_qubits):\n",
    "        circuit.add_RZ_gate(i,x[2*i])\n",
    "        circuit.add_RX_gate(i,x[2*i+1])\n",
    "\n",
    "    return circuit\n"
   ]
  },
  {
   "cell_type": "code",
   "execution_count": 101,
   "metadata": {},
   "outputs": [],
   "source": [
    "edges= [[0,1],[1,2],[2,3],[3,5],[5,8],[8,9],[8,11],[11,14],[13,14],[12,13],[12,15],[10,12],[7,10],[6,7],[4,7],[1,4]]"
   ]
  },
  {
   "cell_type": "code",
   "execution_count": 102,
   "metadata": {},
   "outputs": [],
   "source": [
    "def get_kernel_value(x1,x2,Lambda):\n",
    "\n",
    "    state1 = QuantumState(n_qubits)\n",
    "    state2 = QuantumState(n_qubits)\n",
    "    state1.set_zero_state()\n",
    "    state1.set_zero_state()\n",
    "\n",
    "    circuit1 = create_featured_gate(n_qubits,Lambda,edges,x1)\n",
    "    circuit2 = create_featured_gate(n_qubits,Lambda,edges,x2)\n",
    "    \n",
    "    circuit1.update_quantum_state(state1)\n",
    "\n",
    "    circuit2.update_quantum_state(state2)\n",
    "\n",
    "    return abs(inner_product(state1,state2))**2\n",
    "    "
   ]
  },
  {
   "cell_type": "code",
   "execution_count": 103,
   "metadata": {},
   "outputs": [],
   "source": [
    "def construct_kernel_matrix(Lambda,x):\n",
    "\n",
    "    kernel_matrix = np.identity(x.shape[0])\n",
    "    for i in range(x.shape[0]):\n",
    "        for j in range(i):\n",
    "            kernel_matrix[i,j] = get_kernel_value(x[i],x[j],Lambda)\n",
    "            kernel_matrix[j,i] = kernel_matrix[i,j].conjugate()\n",
    "    \n",
    "    return kernel_matrix"
   ]
  },
  {
   "cell_type": "markdown",
   "metadata": {},
   "source": [
    "### Define helper function for cvxopt"
   ]
  },
  {
   "cell_type": "code",
   "execution_count": 104,
   "metadata": {},
   "outputs": [],
   "source": [
    "from cvxopt import matrix, solvers"
   ]
  },
  {
   "cell_type": "code",
   "execution_count": 105,
   "metadata": {},
   "outputs": [],
   "source": [
    "def cvxopt_solver(Kernel,y,C):\n",
    "    \n",
    "    P = matrix(np.outer(y,y) * Kernel )\n",
    "    q = matrix(- np.ones(y.shape[0]))\n",
    "    n = Kernel.shape[0] \n",
    "\n",
    "    G = matrix(np.vstack(( - np.eye(n), np.eye(n)  ))) \n",
    "    h = matrix(np.vstack((np.zeros((n, 1)), np.full((n, 1),C) )))\n",
    "    A = matrix(y, (1,n))\n",
    "    b = matrix(np.zeros(1), (1, 1))\n",
    "\n",
    "    solvers.options[\"maxiters\"] = 10000\n",
    "    solvers.options[\"show_progress\"] = False\n",
    "\n",
    "    sol = solvers.qp(P,q,G,h,A,b)\n",
    "    return sol "
   ]
  },
  {
   "cell_type": "markdown",
   "metadata": {},
   "source": [
    "## Kernel alignment programme"
   ]
  },
  {
   "cell_type": "markdown",
   "metadata": {},
   "source": []
  },
  {
   "cell_type": "code",
   "execution_count": 112,
   "metadata": {},
   "outputs": [],
   "source": [
    "C = 1\n",
    "P = 20 # the number of steps for SPSA\n",
    "### SPSA parameters. \n",
    "c = 0.1\n",
    "gamma = 0.101\n",
    "a = 0.05\n",
    "A = 1\n",
    "sigma = 0.602\n",
    "\n",
    "lam0 = .1\n",
    "lam_history = []\n",
    "F_history = []\n",
    "K_history = []\n",
    "alpha_history = []\n",
    "\n",
    "\n",
    "np.random.seed(1111)\n",
    "\n",
    "lam = np.full(n_qubits, lam0)\n",
    "for i in range(P):\n",
    "\n",
    "    c_i =  c / (i + 1)** gamma\n",
    "    a_i = a / ( i + 1 + A)** sigma\n",
    "\n",
    "    Delta = 2*np.random.randint(0, 2, 1) - 1 \n",
    "    lam_plus = lam + c_i * Delta\n",
    "    lam_minus = lam - c_i * Delta\n",
    "\n",
    "    K = construct_kernel_matrix(lam, x_train)\n",
    "    K_plus = construct_kernel_matrix(lam_plus, x_train)\n",
    "    K_minus = construct_kernel_matrix(lam_minus, x_train)\n",
    "\n",
    "    sol = cvxopt_solver(K,y_train,C)\n",
    "    sol_plus = cvxopt_solver(K_plus,y_train,C)\n",
    "    sol_minus = cvxopt_solver(K_minus,y_train,C)\n",
    "    alpha_plus = np.array(sol_plus['x']).reshape(-1)\n",
    "    alpha_minus = np.array(sol_minus['x']).reshape(-1)\n",
    "    alpha = sol['x']\n",
    "\n",
    "    F_plus = - sol_plus['primal objective']\n",
    "    F_minus = - sol_minus['primal objective']\n",
    "    F = - sol['primal objective']\n",
    "    lam = lam - (F_plus - F_minus)* Delta* a_i / (2 *c_i)\n",
    "    lam_history.append(lam[0])\n",
    "    F_history.append(F)\n",
    "    K_history.append(K)\n",
    "    alpha_history.append(alpha)\n"
   ]
  },
  {
   "cell_type": "code",
   "execution_count": 113,
   "metadata": {},
   "outputs": [
    {
     "name": "stdout",
     "output_type": "stream",
     "text": [
      "0.2593947250494356\n",
      "0.9999999514807316\n"
     ]
    }
   ],
   "source": [
    "print(lam_history[-1])\n",
    "#print(alpha_history[-1])\n",
    "a = np.array(alpha_history[-1])\n",
    "print(np.max(a))"
   ]
  },
  {
   "cell_type": "code",
   "execution_count": 114,
   "metadata": {},
   "outputs": [
    {
     "data": {
      "image/png": "[encoded data removed]",
      "text/plain": [
       "<Figure size 432x288 with 1 Axes>"
      ]
     },
     "metadata": {
      "needs_background": "light"
     },
     "output_type": "display_data"
    },
    {
     "data": {
      "text/plain": [
       "\"\\nx = np.arange(0,P,1)\\ny1 = np.array(F_history)\\ny2 = np.array(lam_history)\\n\\nfig = plt.figure()\\nax1 = fig.add_subplot()\\nax1.plot(x,y1)\\n\\nax2 = ax1.twinx()\\nax1.plot(x,y2)\\n\\nax1.set_xlabel('Trial Step')\\nax1.set_ylabel('Cost')\\nax2.set_ylabel(r'$\\\\lambda$')\\n\\nplt.axhline(np.pi/2,linestyle='--')\\nplt.show()\\n\""
      ]
     },
     "execution_count": 114,
     "metadata": {},
     "output_type": "execute_result"
    }
   ],
   "source": [
    "\n",
    "x = np.arange(0,P,1)\n",
    "y = np.array(lam_history)\n",
    "plt.plot(x,y)\n",
    "plt.axhline(np.pi/2,linestyle='--')\n",
    "plt.xlabel('Trial Step')\n",
    "plt.ylabel(r'$\\lambda$')\n",
    "plt.show()\n",
    "'''\n",
    "x = np.arange(0,P,1)\n",
    "y1 = np.array(F_history)\n",
    "y2 = np.array(lam_history)\n",
    "\n",
    "fig = plt.figure()\n",
    "ax1 = fig.add_subplot()\n",
    "ax1.plot(x,y1)\n",
    "\n",
    "ax2 = ax1.twinx()\n",
    "ax1.plot(x,y2)\n",
    "\n",
    "ax1.set_xlabel('Trial Step')\n",
    "ax1.set_ylabel('Cost')\n",
    "ax2.set_ylabel(r'$\\lambda$')\n",
    "\n",
    "plt.axhline(np.pi/2,linestyle='--')\n",
    "plt.show()\n",
    "'''"
   ]
  },
  {
   "cell_type": "markdown",
   "metadata": {},
   "source": [
    "## トレーニングデータでの確認"
   ]
  },
  {
   "cell_type": "code",
   "execution_count": 115,
   "metadata": {},
   "outputs": [],
   "source": [
    "def predict(alpha, y_train, x_train, z, Lambda):\n",
    "    kernel_value = np.zeros(len(x_train))\n",
    "    for i in range(len(x_train)):\n",
    "        kernel_value[i] = y_train[i] * alpha[i] * get_kernel_value(x_train[i], z, Lambda)\n",
    "    return np.sign(np.sum(kernel_value))"
   ]
  },
  {
   "cell_type": "code",
   "execution_count": 116,
   "metadata": {},
   "outputs": [
    {
     "name": "stdout",
     "output_type": "stream",
     "text": [
      "[0. 0. 0. 0. 0. 0. 0. 0. 0. 0. 0. 0. 0. 0. 0. 0. 0. 0. 0. 0. 0. 0. 0. 0.\n",
      " 0. 0. 0. 0. 0. 0. 0. 0. 0. 0. 0. 0. 0. 0. 0. 0.]\n",
      "number of misclassification 0.0\n",
      "accuracy 1.0\n"
     ]
    }
   ],
   "source": [
    "predict_train = []\n",
    "lam_vector = np.full(n_qubits, lam_history[-1])\n",
    "for i in range(len(x_train)):\n",
    "    predict_train.append(predict(alpha_history[-1], y_train, x_train, x_train[i], lam_vector))\n",
    "    \n",
    "n_miss_train = np.sum(np.abs(predict_train - y_train.reshape(-1)))/2\n",
    "#print(predict_train)\n",
    "#print(y_train.reshape(-1))\n",
    "print(predict_train - y_train.reshape(-1))\n",
    "print('number of misclassification', n_miss_train)\n",
    "print('accuracy', 1 - n_miss_train/len(predict_train))"
   ]
  },
  {
   "cell_type": "markdown",
   "metadata": {},
   "source": [
    "## テストデータでの確認"
   ]
  },
  {
   "cell_type": "markdown",
   "metadata": {},
   "source": [
    "テストデータ生成"
   ]
  },
  {
   "cell_type": "code",
   "execution_count": 56,
   "metadata": {},
   "outputs": [],
   "source": [
    "n_data_test = 50\n",
    "epsilon = 0.0 # エラーの分散\n",
    "\n",
    "l = [i for i in range(2**n_qubits)] # 0 = 2**n_qubits-1 のリスト\n",
    "select = random.sample(l, n_data_test)\n",
    "select_bin = [format(select[i], f'0{n_qubits}b') for i in range(n_data_test)]\n",
    "\n",
    "x_plus = []\n",
    "x_minus = []\n",
    "for i in range(n_data_test):\n",
    "    xx = x_generator(c_plus, select_bin[i]).reshape((1,-1))\n",
    "    e = np.random.normal(0, np.sqrt(epsilon), (1, 2*n_qubits))\n",
    "    x_plus.append(xx + e)\n",
    "    xx = x_generator(c_minus, select_bin[i]).reshape((1,-1))\n",
    "    e = np.random.normal(0, np.sqrt(epsilon), (1, 2*n_qubits))\n",
    "    x_minus.append(xx + e)\n",
    "x_plus = np.concatenate(x_plus)\n",
    "x_minus = np.concatenate(x_minus)\n",
    "x_test = np.concatenate([x_plus,x_minus])\n",
    "y_plus = np.ones(n_data_test)\n",
    "y_minus = -np.ones(n_data_test)\n",
    "y_test = np.concatenate([y_plus, y_minus]).reshape(1,-1)\n",
    "#print(x_test)\n",
    "#print(y_test)"
   ]
  },
  {
   "cell_type": "code",
   "execution_count": 117,
   "metadata": {},
   "outputs": [
    {
     "name": "stdout",
     "output_type": "stream",
     "text": [
      "[ 0.  0.  0.  0.  0.  0.  0.  0.  0. -2. -2.  0.  0.  0.  0.  0. -2.  0.\n",
      "  0. -2. -2.  0. -2. -2.  0.  0. -2.  0.  0.  0.  0. -2.  0.  0.  0. -2.\n",
      "  0. -2.  0.  0.  0. -2. -2. -2. -2. -2.  0.  0. -2.  0.  2.  0.  0.  2.\n",
      "  0.  2.  0.  2.  2.  2.  2.  0.  2.  0.  0.  0.  2.  2.  2.  2.  2.  2.\n",
      "  2.  2.  0.  0.  0.  2.  2.  0.  2.  2.  0.  2.  0.  2.  0.  2.  0.  2.\n",
      "  2.  2.  2.  2.  2.  2.  2.  0.  2.  0.]\n",
      "number of misclassification 49.0\n",
      "accuracy 0.51\n"
     ]
    }
   ],
   "source": [
    "predict_test = []\n",
    "lam_vector = np.full(n_qubits, lam_history[-1])\n",
    "for i in range(len(x_test)):\n",
    "    predict_test.append(predict(alpha_history[-1], y_train, x_train, x_test[i], lam_vector))\n",
    "\n",
    "n_miss_test = np.sum(np.abs(predict_test - y_test.reshape(-1)))/2\n",
    "#print(predict_test)\n",
    "#print(y_test.reshape(-1))\n",
    "print(predict_test - y_test.reshape(-1))\n",
    "print('number of misclassification', n_miss_test)\n",
    "print('accuracy', 1 - n_miss_test/len(predict_test))"
   ]
  },
  {
   "cell_type": "markdown",
   "metadata": {},
   "source": [
    "## Under construction..."
   ]
  },
  {
   "cell_type": "code",
   "execution_count": 30,
   "metadata": {},
   "outputs": [],
   "source": [
    "class KernelMatrix:\n",
    "\n",
    "    def __init__(self,n_qubit,Lambda,edges) -> None:\n",
    "        self.n_qubit = n_qubit\n",
    "        self.Lambda = Lambda\n",
    "        self.edges = edges\n",
    "        self.state1 = QuantumState(n_qubit)\n",
    "        self.state2 = QuantumState(n_qubit)\n",
    "\n",
    "    def make_fiducial_state(self,Lambda):\n",
    "        circuit = ParametricQuantumCircuit(self.n_qubit)\n",
    "        for i in range(self.n_qubit):\n",
    "            circuit.add_parametric_RY_gate(Lambda)\n",
    "        for control, target in self.edges:\n",
    "            circuit.add_CZ_gate(control,target)\n",
    "        return circuit\n",
    "\n",
    "    def create_featured_gate(self,theta):\n",
    "        circuit = ParametricQuantumCircuit(self.n_qubit)\n",
    "        for i in range(self.n_qubit):\n",
    "            circuit.add_parametric_RY_gate(i,self.Lambda)\n",
    "        for control, target in self.edges:\n",
    "            circuit.add_CZ_gate(control,target)\n",
    "\n",
    "        for i in range(self.n_qubit):\n",
    "            circuit.add_RZ_gate(i,theta[i,0])\n",
    "            circuit.add_RX_gate(i,theta[i,1])\n",
    "\n",
    "        return circuit\n",
    "        \n",
    "    def featured_gate(self,theta):\n",
    "        circuit = QuantumCircuit(self.n_qubit)\n",
    "        for i in range(self.n_qubit):\n",
    "            circuit.add_RZ_gate(i,theta[i,0])\n",
    "            circuit.add_RX_gate(i,theta[i,1])\n",
    "\n",
    "        return circuit\n",
    "\n",
    "    def get_kernel_value(self,x1,x2):\n",
    "        self.state1.set_zero_state()\n",
    "        self.state1.set_zero_state()\n",
    "        fiducial_gate = self.make_fiducial_state()\n",
    "\n",
    "\n",
    "        featured_gate1 = self.featured_gate(x1)\n",
    "        featured_gate2 = self.featured_gate(x2)\n",
    "        \n",
    "        circuit1 = merge(fiducial_gate,featured_gate1)\n",
    "        circuit1.update_quantum_state(state1)\n",
    "        circuit2 = merge(fiducial_gate,featured_gate2)\n",
    "        circuit2.update_quantum_state(state2)\n",
    "\n",
    "        return inner_product(state1,state2)\n",
    "    \n",
    "    def construct_kernel_matrix(self,x_data):\n",
    "        \"\"\"\n",
    "        Args:\n",
    "            x_data : MxNxD array of data where N is the number of samples,\n",
    "             N the number of qubits, D the feature dimension\n",
    "        \"\"\"\n",
    "        kernel_matrix = np.identity(x_data.shape[0])\n",
    "        for i in range(x_data.shape[0]):\n",
    "            for j in range(i):\n",
    "                kernel_matrix[i,j] = self.get_kernel_value(x_data[i],x_data[j])\n",
    "                kernel_matrix[j,i] = kernel_matrix[i,j].conjugate()\n",
    "        \n",
    "        return kernel_matrix\n",
    "\n",
    "    def spsa(self,x_data,y_label,n_step,initial_Lambda = 0.01):\n",
    "        Lambda = initial_Lambda\n",
    "        for i in n_step:\n",
    "            Delta = 2 * np.random.rand() - 1\n",
    "\n",
    "            c_i = c / ( i + 1)**gamma\n",
    "            Lambda__pm_i = Lambda + np.array([Delta*c_i, - Delta*c_i])\n",
    "            self.construct_kernel_matrix()\n",
    "\n"
   ]
  },
  {
   "cell_type": "code",
   "execution_count": 43,
   "metadata": {},
   "outputs": [
    {
     "data": {
      "text/plain": [
       "array([1, 2])"
      ]
     },
     "execution_count": 43,
     "metadata": {},
     "output_type": "execute_result"
    }
   ],
   "source": [
    "np.array([0,1 ]) + 1"
   ]
  },
  {
   "cell_type": "code",
   "execution_count": 33,
   "metadata": {},
   "outputs": [
    {
     "data": {
      "text/plain": [
       " *** Quantum State ***\n",
       " * Qubit Count : 2\n",
       " * Dimension   : 4\n",
       " * State vector : \n",
       "(1,0)\n",
       "(0,0)\n",
       "(0,0)\n",
       "(0,0)"
      ]
     },
     "execution_count": 33,
     "metadata": {},
     "output_type": "execute_result"
    }
   ],
   "source": [
    "KernelMatrix(2,np.pi,[[0,1]]).state1"
   ]
  },
  {
   "cell_type": "code",
   "execution_count": null,
   "metadata": {},
   "outputs": [],
   "source": [
    "state1 = QuantumState(n)\n",
    "state2 = QuantumState(n)\n",
    "def get_kernel_value(x1,x2):\n",
    "    state1.set_zero_state()\n",
    "    create_featured_gate()"
   ]
  }
 ],
 "metadata": {
  "interpreter": {
   "hash": "4d6cf19fbe203395831accd42fb3bdc3b710eb7fbe04f788a536db11ba6ce36d"
  },
  "kernelspec": {
   "display_name": "Python 3 (ipykernel)",
   "language": "python",
   "name": "python3"
  },
  "language_info": {
   "codemirror_mode": {
    "name": "ipython",
    "version": 3
   },
   "file_extension": ".py",
   "mimetype": "text/x-python",
   "name": "python",
   "nbconvert_exporter": "python",
   "pygments_lexer": "ipython3",
   "version": "3.9.7"
  }
 },
 "nbformat": 4,
 "nbformat_minor": 2
}
